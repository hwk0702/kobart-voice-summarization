{
 "cells": [
  {
   "cell_type": "markdown",
   "id": "hidden-indie",
   "metadata": {},
   "source": [
    "# 문서요약 데이터셋\n",
    "\n",
    "Train 데이터셋의 크기가 600MB 정도 되기 때문에 gitignore에 등록하여 github에는 올라가지 않도록 설정하였습니다. <br>\n",
    "각자 아래 경로의 형태에 맞게 데이터셋을 위치시키면 됩니다.\n",
    "\n",
    "- 코드 구조\n",
    "\n",
    "```\n",
    "kobart/\n",
    "    └─ data/ # 이 부분을 직접 만들어야 함\n",
    "        ├─ train.jsonl\n",
    "        ├─ dev.jsonl\n",
    "        └─ test.jsonl\n",
    "    ├─ config.py\n",
    "    ├─ dataset.py\n",
    "    ├─ main.py\n",
    "    ├─ trainer.py\n",
    "    ├─ utils.py\n",
    "    └─ data_sample.ipynb\n",
    "    \n",
    "```"
   ]
  },
  {
   "cell_type": "markdown",
   "id": "charitable-coating",
   "metadata": {},
   "source": [
    "## 1. 경로 설정"
   ]
  },
  {
   "cell_type": "code",
   "execution_count": 2,
   "id": "mobile-canon",
   "metadata": {},
   "outputs": [
    {
     "name": "stdout",
     "output_type": "stream",
     "text": [
      "./data/train.jsonl\n",
      "./data/dev.jsonl\n",
      "./data/test.jsonl\n"
     ]
    }
   ],
   "source": [
    "import os\n",
    "\n",
    "root_pth = \"./data\"\n",
    "\n",
    "train_pth = os.path.join(root_pth, \"train.jsonl\")\n",
    "dev_pth = os.path.join(root_pth, \"dev.jsonl\")\n",
    "test_pth = os.path.join(root_pth, \"test.jsonl\")\n",
    "\n",
    "print(train_pth)\n",
    "print(dev_pth)\n",
    "print(test_pth)"
   ]
  },
  {
   "cell_type": "markdown",
   "id": "celtic-heaven",
   "metadata": {},
   "source": [
    "## 2. 파일 읽어오기"
   ]
  },
  {
   "cell_type": "code",
   "execution_count": 3,
   "id": "regional-cologne",
   "metadata": {},
   "outputs": [
    {
     "name": "stdout",
     "output_type": "stream",
     "text": [
      "데이터셋 수 (train / dev / test)\n",
      "260697 10000 10000\n"
     ]
    }
   ],
   "source": [
    "# train\n",
    "with open(train_pth, \"r\", encoding=\"utf-8\") as f:\n",
    "    jsonl_train = list(f)\n",
    "\n",
    "# dev\n",
    "with open(dev_pth, \"r\", encoding=\"utf-8\") as f:\n",
    "    jsonl_dev = list(f)\n",
    "\n",
    "# test\n",
    "with open(test_pth, \"r\", encoding=\"utf-8\") as f:\n",
    "    jsonl_test = list(f)\n",
    "\n",
    "print(\"데이터셋 수 (train / dev / test)\")\n",
    "print(len(jsonl_train), len(jsonl_dev), len(jsonl_test))"
   ]
  },
  {
   "cell_type": "code",
   "execution_count": 4,
   "id": "devoted-berry",
   "metadata": {},
   "outputs": [
    {
     "data": {
      "text/plain": [
       "'{\"media\": \"전북일보\", \"id\": \"344987770\", \"article_original\": [\"그룹 위키미키(Weki Meki)가 드디어 오늘(14일) 두 번째 싱글 앨범을 발표하며 컴백한다.\", \"지난해 10월 발매한 첫 번째 싱글 앨범 \\'KISS, KICKS(키스, 킥스)\\' 이후 약 7개월만에 발매되는 이번 앨범 \\'LOCK END LOL(락앤롤)\\'은 위키미키의 극대화 된 틴크러쉬 매력을 만나 볼 수 있다고 알려져 발매 전부터 팬들을 설레게 했다.\", \"이 가운데 위키미키가 컴백을 하루 앞둔 지난 13일 공식 SNS채널을 통해 두 번째 싱글 앨범의 타이틀 곡 \\'Picky Picky(피키피키)\\' 뮤직비디오 2차 티저 영상을 공개해 컴백에 대한 기대치를 최고로 끌어올렸다.\", \"해당 영상 속 위키미키는 앞서 공개된 뮤직비디오 티저에 이어 러블리 갱스터에서 스쿨걸로 변신, 학교에 잠입해 각자의 캐릭터에 몰입하고 있다.\", \"교실에서의 \\'하이틴 크러쉬(HIGH TEEN-CRUSH)\\' 매력이 넘치는 위키미키의 모습은 보는 이들의 시선을 사로잡는다.\", \"특히, 2차 티저 영상에는 타이틀곡 \\'Picky Picky\\' 안무와 함께 짧지만, 중독성 있는 멜로디의 일부가 공개되면서 신곡에 대한 기대감을 한층 높였다.\", \"위키미키의 타이틀곡 \\'Picky Picky\\'는 펑키한 트랙에 \\'Picky Pikcy\\'라는 중독성 있는 훅이 매력적인 곡이다.\", \"그뿐만 아니라 티저를 통해 공개된 \\'Like it, don\\'t like it. Luv it, don\\'t want it. Weki Meki, I\\'m so Picky\\'라는 가사에서 보여주듯 호불호를 당당하게 표현하는 동시에 위키미키의 파워 넘치는 \\'틴크러쉬\\'의 완결을 보여줄 예정이다.\", \"위키미키는 오늘(14일) 오후 6시 두 번째 싱글 앨범 \\'LOCK END LOL\\'을 정식 발매한다.\", \"이번 앨범은 타이틀곡 \\'Picky Picky\\'를 비롯한 총 3곡이 수록되었으며 다채로운 위키미키 멤버들의 모습을 만나 볼 수 있다.\", \"한편, 위키미키는 오늘 쇼케이스를 시작으로 본격적인 활동에 돌입한다.\"], \"abstractive\": \"지난 13일 뮤직비디오 티저 영상을 통해 하이틴 크러쉬의 매력을 보여주며 기대치를 끌어올린 그룹 위키미키가 오늘(14일) 펑키한 트랙의 중독성 있는 훅을 가진 \\' Picky Picky(피키피키)\\' 로 두번째 싱글 앨범을 발표하며 컴백한다.\", \"extractive\": [0, 2, 6]}\\n'"
      ]
     },
     "execution_count": 4,
     "metadata": {},
     "output_type": "execute_result"
    }
   ],
   "source": [
    "# 샘플 확인\n",
    "jsonl_dev[0]"
   ]
  },
  {
   "cell_type": "markdown",
   "id": "aging-olympus",
   "metadata": {},
   "source": [
    "## 3. JSON 전처리\n",
    "\n",
    "형식이 같기 때문에 dev data에 대해서만 수행하겠습니다."
   ]
  },
  {
   "cell_type": "code",
   "execution_count": 5,
   "id": "organic-spencer",
   "metadata": {},
   "outputs": [],
   "source": [
    "import json\n",
    "\n",
    "dev_data = [json.loads(json_str) for json_str in jsonl_dev]"
   ]
  },
  {
   "cell_type": "code",
   "execution_count": 6,
   "id": "constant-enlargement",
   "metadata": {},
   "outputs": [
    {
     "data": {
      "text/plain": [
       "{'media': '전북일보',\n",
       " 'id': '344987770',\n",
       " 'article_original': ['그룹 위키미키(Weki Meki)가 드디어 오늘(14일) 두 번째 싱글 앨범을 발표하며 컴백한다.',\n",
       "  \"지난해 10월 발매한 첫 번째 싱글 앨범 'KISS, KICKS(키스, 킥스)' 이후 약 7개월만에 발매되는 이번 앨범 'LOCK END LOL(락앤롤)'은 위키미키의 극대화 된 틴크러쉬 매력을 만나 볼 수 있다고 알려져 발매 전부터 팬들을 설레게 했다.\",\n",
       "  \"이 가운데 위키미키가 컴백을 하루 앞둔 지난 13일 공식 SNS채널을 통해 두 번째 싱글 앨범의 타이틀 곡 'Picky Picky(피키피키)' 뮤직비디오 2차 티저 영상을 공개해 컴백에 대한 기대치를 최고로 끌어올렸다.\",\n",
       "  '해당 영상 속 위키미키는 앞서 공개된 뮤직비디오 티저에 이어 러블리 갱스터에서 스쿨걸로 변신, 학교에 잠입해 각자의 캐릭터에 몰입하고 있다.',\n",
       "  \"교실에서의 '하이틴 크러쉬(HIGH TEEN-CRUSH)' 매력이 넘치는 위키미키의 모습은 보는 이들의 시선을 사로잡는다.\",\n",
       "  \"특히, 2차 티저 영상에는 타이틀곡 'Picky Picky' 안무와 함께 짧지만, 중독성 있는 멜로디의 일부가 공개되면서 신곡에 대한 기대감을 한층 높였다.\",\n",
       "  \"위키미키의 타이틀곡 'Picky Picky'는 펑키한 트랙에 'Picky Pikcy'라는 중독성 있는 훅이 매력적인 곡이다.\",\n",
       "  \"그뿐만 아니라 티저를 통해 공개된 'Like it, don't like it. Luv it, don't want it. Weki Meki, I'm so Picky'라는 가사에서 보여주듯 호불호를 당당하게 표현하는 동시에 위키미키의 파워 넘치는 '틴크러쉬'의 완결을 보여줄 예정이다.\",\n",
       "  \"위키미키는 오늘(14일) 오후 6시 두 번째 싱글 앨범 'LOCK END LOL'을 정식 발매한다.\",\n",
       "  \"이번 앨범은 타이틀곡 'Picky Picky'를 비롯한 총 3곡이 수록되었으며 다채로운 위키미키 멤버들의 모습을 만나 볼 수 있다.\",\n",
       "  '한편, 위키미키는 오늘 쇼케이스를 시작으로 본격적인 활동에 돌입한다.'],\n",
       " 'abstractive': \"지난 13일 뮤직비디오 티저 영상을 통해 하이틴 크러쉬의 매력을 보여주며 기대치를 끌어올린 그룹 위키미키가 오늘(14일) 펑키한 트랙의 중독성 있는 훅을 가진 ' Picky Picky(피키피키)' 로 두번째 싱글 앨범을 발표하며 컴백한다.\",\n",
       " 'extractive': [0, 2, 6]}"
      ]
     },
     "execution_count": 6,
     "metadata": {},
     "output_type": "execute_result"
    }
   ],
   "source": [
    "# 샘플 확인\n",
    "dev_data[0]"
   ]
  },
  {
   "cell_type": "code",
   "execution_count": 7,
   "id": "average-documentary",
   "metadata": {},
   "outputs": [
    {
     "data": {
      "text/plain": [
       "dict_keys(['media', 'id', 'article_original', 'abstractive', 'extractive'])"
      ]
     },
     "execution_count": 7,
     "metadata": {},
     "output_type": "execute_result"
    }
   ],
   "source": [
    "dev_data[0].keys()"
   ]
  },
  {
   "cell_type": "markdown",
   "id": "judicial-friendship",
   "metadata": {},
   "source": [
    "우리가 여기서 사용할 key는 'article_original', 'abstractive' 입니다. <br>\n",
    "따라서 source와 target을 아래와 같이 구성합니다."
   ]
  },
  {
   "cell_type": "code",
   "execution_count": 8,
   "id": "sought-weekly",
   "metadata": {},
   "outputs": [],
   "source": [
    "src = [d[\"article_original\"] for d in dev_data]\n",
    "tgt = [d[\"abstractive\"] for d in dev_data]\n",
    "assert len(src) == len(tgt)"
   ]
  },
  {
   "cell_type": "code",
   "execution_count": 9,
   "id": "sought-cleanup",
   "metadata": {},
   "outputs": [
    {
     "data": {
      "text/plain": [
       "['그룹 위키미키(Weki Meki)가 드디어 오늘(14일) 두 번째 싱글 앨범을 발표하며 컴백한다.',\n",
       " \"지난해 10월 발매한 첫 번째 싱글 앨범 'KISS, KICKS(키스, 킥스)' 이후 약 7개월만에 발매되는 이번 앨범 'LOCK END LOL(락앤롤)'은 위키미키의 극대화 된 틴크러쉬 매력을 만나 볼 수 있다고 알려져 발매 전부터 팬들을 설레게 했다.\",\n",
       " \"이 가운데 위키미키가 컴백을 하루 앞둔 지난 13일 공식 SNS채널을 통해 두 번째 싱글 앨범의 타이틀 곡 'Picky Picky(피키피키)' 뮤직비디오 2차 티저 영상을 공개해 컴백에 대한 기대치를 최고로 끌어올렸다.\",\n",
       " '해당 영상 속 위키미키는 앞서 공개된 뮤직비디오 티저에 이어 러블리 갱스터에서 스쿨걸로 변신, 학교에 잠입해 각자의 캐릭터에 몰입하고 있다.',\n",
       " \"교실에서의 '하이틴 크러쉬(HIGH TEEN-CRUSH)' 매력이 넘치는 위키미키의 모습은 보는 이들의 시선을 사로잡는다.\",\n",
       " \"특히, 2차 티저 영상에는 타이틀곡 'Picky Picky' 안무와 함께 짧지만, 중독성 있는 멜로디의 일부가 공개되면서 신곡에 대한 기대감을 한층 높였다.\",\n",
       " \"위키미키의 타이틀곡 'Picky Picky'는 펑키한 트랙에 'Picky Pikcy'라는 중독성 있는 훅이 매력적인 곡이다.\",\n",
       " \"그뿐만 아니라 티저를 통해 공개된 'Like it, don't like it. Luv it, don't want it. Weki Meki, I'm so Picky'라는 가사에서 보여주듯 호불호를 당당하게 표현하는 동시에 위키미키의 파워 넘치는 '틴크러쉬'의 완결을 보여줄 예정이다.\",\n",
       " \"위키미키는 오늘(14일) 오후 6시 두 번째 싱글 앨범 'LOCK END LOL'을 정식 발매한다.\",\n",
       " \"이번 앨범은 타이틀곡 'Picky Picky'를 비롯한 총 3곡이 수록되었으며 다채로운 위키미키 멤버들의 모습을 만나 볼 수 있다.\",\n",
       " '한편, 위키미키는 오늘 쇼케이스를 시작으로 본격적인 활동에 돌입한다.']"
      ]
     },
     "execution_count": 9,
     "metadata": {},
     "output_type": "execute_result"
    }
   ],
   "source": [
    "# 최종 source 샘플 확인\n",
    "src[0]"
   ]
  },
  {
   "cell_type": "code",
   "execution_count": 10,
   "id": "common-chuck",
   "metadata": {},
   "outputs": [
    {
     "data": {
      "text/plain": [
       "\"지난 13일 뮤직비디오 티저 영상을 통해 하이틴 크러쉬의 매력을 보여주며 기대치를 끌어올린 그룹 위키미키가 오늘(14일) 펑키한 트랙의 중독성 있는 훅을 가진 ' Picky Picky(피키피키)' 로 두번째 싱글 앨범을 발표하며 컴백한다.\""
      ]
     },
     "execution_count": 10,
     "metadata": {},
     "output_type": "execute_result"
    }
   ],
   "source": [
    "# 최종 target 샘플 확인\n",
    "tgt[0]"
   ]
  },
  {
   "cell_type": "markdown",
   "id": "competent-armor",
   "metadata": {},
   "source": [
    "> Raw 데이터 전처리가 완료되었습니다. 이제 이 데이터에 tokenizing, vocab 구축 등의 작업을 수행할 수 있습니다."
   ]
  },
  {
   "cell_type": "code",
   "execution_count": null,
   "id": "suitable-allowance",
   "metadata": {},
   "outputs": [],
   "source": []
  }
 ],
 "metadata": {
  "kernelspec": {
   "display_name": "Python 3",
   "language": "python",
   "name": "python3"
  },
  "language_info": {
   "codemirror_mode": {
    "name": "ipython",
    "version": 3
   },
   "file_extension": ".py",
   "mimetype": "text/x-python",
   "name": "python",
   "nbconvert_exporter": "python",
   "pygments_lexer": "ipython3",
   "version": "3.6.9"
  }
 },
 "nbformat": 4,
 "nbformat_minor": 5
}
