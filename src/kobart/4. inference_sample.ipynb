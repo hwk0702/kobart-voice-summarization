{
 "cells": [
  {
   "cell_type": "markdown",
   "id": "hairy-buffer",
   "metadata": {},
   "source": [
    "# Inference sample\n"
   ]
  },
  {
   "cell_type": "code",
   "execution_count": 1,
   "id": "lesbian-shakespeare",
   "metadata": {},
   "outputs": [],
   "source": [
    "from inference import get_summarized_text"
   ]
  },
  {
   "cell_type": "markdown",
   "id": "framed-congo",
   "metadata": {},
   "source": [
    "## Example 1: 일반 뉴스\n",
    "- 원문: https://news.naver.com/main/read.nhn?mode=LSD&mid=shm&sid1=105&oid=025&aid=0003086392"
   ]
  },
  {
   "cell_type": "code",
   "execution_count": 2,
   "id": "amateur-monte",
   "metadata": {},
   "outputs": [],
   "source": [
    "text = \"\"\"\n",
    "5월 서비스 재개를 추진하는 '추억의 SNS' 싸이월드가 회원들이 저장했던 사진데이터가 무사하며, 약 35억원어치 '도토리'(사이버머니)도 이용자들에게 환불해줄 계획이라고 19일 밝혔다.\n",
    "싸이월드 운영권을 넘겨받은 싸이월드제트는 이날 보도자료를 통해 전날 SK커뮤니케이션즈와 서비스 데이터 이관 등에 관한 합의서를 체결했다고 알렸다.\n",
    "싸이월드는 과거 SK컴즈에 사보사용료 등을 체납해 1년 5개월째 SKT의 인터넷데이터센터(IDC)에 있는 서버에 접근하지 못하고 있었다. 하지만 양측이 데이터 이관에 합의하면서 싸이월드 복구 작업도 탄력을 받게 됐다.\n",
    "이들은 \"회원 3200만명이 저장했던 사진 170억장, 동영상 1억5000만개, 음원 5억여개 등 180억개에 달하는 데이터베이스(DB)가 그대로 보존돼있는 것을 확인했다\"고 했다.\n",
    "또 오는 5월 싸이월드 서비스가 재개되면 이용자들이 구매했던 도토리도 환불해주기로 했다. 싸이월드제트 측은 SK컴즈가 보관하던 도토리를 넘겨받아 환불해주기로 합의했다고 밝혔다. 도토리는 미니홈피의 바탕화면이나 음악 등을 구매할 때 쓰던 사이버머니다.\n",
    "싸이월드제트 관계자는 \"SK텔레콤·SK컴즈가 싸이월드 부활을 위해 큰 결단을 해주셨다\"며 \"조만간 싸이월드를 통해 복구 진척 상황과 '아이디 찾기' 기능 등을 확인할 수 있을 것\"이라고 밝혔다.\n",
    "\"\"\""
   ]
  },
  {
   "cell_type": "code",
   "execution_count": 3,
   "id": "treated-yield",
   "metadata": {},
   "outputs": [
    {
     "name": "stdout",
     "output_type": "stream",
     "text": [
      "using cached model\n",
      "using cached model\n"
     ]
    }
   ],
   "source": [
    "summ = get_summarized_text(text)"
   ]
  },
  {
   "cell_type": "code",
   "execution_count": 4,
   "id": "corrected-staff",
   "metadata": {},
   "outputs": [
    {
     "data": {
      "text/plain": [
       "\"5월 서비스 재개를 추진하는 '추억의 SNS' 싸이월드가 회원들이 저장했던 사진데이터가 무사하며, 약 35억원어치 '도토리'(사이버머니)도 이용자들에게 환불해줄 계획이라고 19일 밝혔는데, 싸이월드 운영권을 넘겨받은 싸이월드제트는 이날 보도자료를 통해 전날 SK커뮤니케이션즈와 서비스 데이터 이관 등에 관한 합의서를 체결했다고 알렸다.\""
      ]
     },
     "execution_count": 4,
     "metadata": {},
     "output_type": "execute_result"
    }
   ],
   "source": [
    "summ"
   ]
  },
  {
   "cell_type": "markdown",
   "id": "amended-karma",
   "metadata": {},
   "source": [
    "## Example 2: 스포츠 뉴스\n",
    "\n",
    "- 원문: https://sports.news.naver.com/news.nhn?oid=139&aid=0002148267"
   ]
  },
  {
   "cell_type": "code",
   "execution_count": 5,
   "id": "descending-booth",
   "metadata": {},
   "outputs": [],
   "source": [
    "text = \"\"\"\n",
    "UEFA는 19일 오후 8시(한국시간) 스위스 니옹에 위치한 UEFA 본부에서 2020/21시즌 UCL 8강-4강 대진 추첨식을 진행했다.\n",
    "지난 시즌 압도적인 경기력으로 우승컵을 들어올렸던 바이에른 뮌헨은 파리 생제르맹(PSG)과 만나게 됐다. PSG 입장에선 지난 시즌 결승전에서의 패배 복수를 할 수 있는 기회가 온 것이다.\n",
    "토마스 투헬 감독 체제에서 180도 달라진 첼시는 FC포르투와 격돌하게 됐다. 첼시는 지난 16강전에서 아틀레티코 마드리드를 상대로 1, 2차전 무실점 완승을 거뒀다. 포르투는 크리스티아누 호날두가 버틴 유벤투스를 격파하며 이변을 보여줬다.\n",
    "가장 주목해야 할 팀은 맨체스터 시티다. 맨시티는 올 시즌 잉글리시 프리미어리그(EPL)에서 단독 1위를 질주하고 있다. 다만 챔피언스리그와는 인연이 없었다. 올 시즌은 다르다는 것을 보여주고 있는 펩 과르디올라 감독과 맨시티는 보루시아 도르트문트와 외나무다리에서 만난다.\n",
    "마지막 한 자리는 레알 마드리드와 리버풀이 만나게 됐다. 두 팀도 과거 대회에서 여러 차례 만난 바 있다.\n",
    "한편, 8강 1차전은 4월 7일, 8일에 열리고 2차전은 4월 14일, 15일에 펼쳐진다. 준결승 1차전은 4월 28일, 29일에 2차전은 5월 5일, 6일에 예정되어 있다.\n",
    "\"\"\""
   ]
  },
  {
   "cell_type": "code",
   "execution_count": 6,
   "id": "invisible-aviation",
   "metadata": {},
   "outputs": [
    {
     "name": "stdout",
     "output_type": "stream",
     "text": [
      "using cached model\n",
      "using cached model\n"
     ]
    }
   ],
   "source": [
    "summ = get_summarized_text(text)"
   ]
  },
  {
   "cell_type": "code",
   "execution_count": 7,
   "id": "scenic-austria",
   "metadata": {},
   "outputs": [
    {
     "data": {
      "text/plain": [
       "'UEFA는 19일 오후 8시 스위스 니옹에 위치한 UEFA 본부에서 2020/21시즌 UCL 8강-4강 대진 추첨식을 진행했는데, 지난 시즌 압도적인 경기력으로 우승컵을 들어올렸던 바이에른 뮌헨은 파리 생제르맹(PSG)과 만나게 됐고, 펩 과르디올라 감독과 맨시티는 보루시아 도르트문트와 외나무다리에서 만나게 됐다.'"
      ]
     },
     "execution_count": 7,
     "metadata": {},
     "output_type": "execute_result"
    }
   ],
   "source": [
    "summ"
   ]
  },
  {
   "cell_type": "markdown",
   "id": "pointed-fighter",
   "metadata": {},
   "source": [
    "## Example 3: 연예 뉴스\n",
    "- 원문: https://entertain.naver.com/read?oid=382&aid=0000897848"
   ]
  },
  {
   "cell_type": "code",
   "execution_count": 8,
   "id": "republican-looking",
   "metadata": {},
   "outputs": [],
   "source": [
    "text = \"\"\"\n",
    "Mnet '너의 목소리가 보여8' 그룹 슈퍼주니어가 음치 찾기에 실패했다.\n",
    "슈퍼주니어는 19일 Mnet '너의 목소리가 보여8'에 출연했다.\n",
    "MC 이특은 이날 멤버들과 함께 음치 색출에 참여했다. 이특은 \"제작진이 도전장을 내밀었다. 현 시간부로 음치와의 전쟁을 선포하겠다\"고 프로그램에 임하는 각오를 전했다.\n",
    "1라운드, 비주얼만으로 음치와 실력자를 가려내는 '가수의 비주얼'이 시작됐다. 슈퍼주니어가 처음 지목한 미스터리 싱어는 실용음악과 학생 김치영 씨였고 그는 완벽한 노래 실력으로 슈퍼주니어를 당황시켰다.\n",
    "입대를 앞둔 김치영 씨는 \"지인들은 내 목소리가 특이하고 여성스럽다고 했는데 여기 와서 매력적이라는 말을 처음 들었다. 큰 무대가 처음이라 떨렸다. 정말 뜻깊고 알찬 경험이었다\"라고 소감을 전했다. 이에 려욱은 \"나도 데뷔 전에 비슷한 평가를 들었는데 나는 개성으로 키웠다. 훌륭한 가수가 될 것 같다\"라고 응원했다.\n",
    "이어 슈퍼주니어는 3연속 음치 찾기에 실패해 체면을 구겼다. 2라운드 립싱크로 음치를 판별하는 '가수의 립싱크'에서 선택한 미스터리싱어의 정체는 한양대 음대 여신 강윤정 씨였다. 강윤정은 국악과 성악 창법을 모두 선보여 현장을 놀라게 했다. 또 음치로 선택을 받은 미스터리싱어 역시 실력자였다. 최경호, 김진혁, 정유석 씨로 구성된 팀이었고 세 명은 폭발적인 고음을 자랑했다.\n",
    "3라운드 '가수의 증거'에선 슈퍼주니어와 음치수사대가 날카로운 질문으로 미스터리싱어들을 긴장하게 만들었다. 음치수사대 우영이 결정적인 단서가 될 만한 질문으로 음치 추리를 도왔고 슈퍼주니어는 네 번째 미스터리 싱어를 지목해 처음으로 음치를 찾아냈다. 색소폰과 함께 진실의 무대에 오른 5번 미스터리 싱어는 음치 늦깎이 신인 배우 이충훈이었다. 이충훈은 반전 팝핀 댄스 실력으로 감탄을 자아냈고 '곧 웹드라마 주연 배우로 시청자들을 만날 예정'이라고 응원을 당부했다.\n",
    "남은 미스터리싱어는 버클리 음대 4번과 오혁 친구 3번이었다. 슈퍼주니어는 3번 미스터리싱어를 실력자로 선택했다. 이에 4번 미스터리싱어가 먼저 진실의 무대에 올랐다. 4번 미스터리싱어의 정체는 실력자 케일라 리 씨였다. 앞서 동해는 자신이 알고 있는 버클리 음대 앞 버거 맛집 가게 색깔을 맞히지 못한 케일라 리를 음치라고 확신한 바 있다. 정체가 드러나 케일라 리는 동해 말에 반박하며 억울해해 웃음을 선사했다.\n",
    "끝으로 슈퍼주니어와 함께 무대를 꾸미게 된 최후의 1인, 3번 미스터리싱어의 정체는 음치였다. 전직 엑소 스타일리스트팀 막내 이승영 씨는 슈퍼주니어와 함께 '데빌' 무대를 유쾌하게 이끌었다. 이승영 씨는 상금 500만 원을 획득했고 '나 같은 음치도 나올 수 있는 프로그램이라서 출연했다. 늘 무대에 서고 싶은 욕망이 있었다'라고 기뻐했다.\n",
    "\"\"\""
   ]
  },
  {
   "cell_type": "code",
   "execution_count": 9,
   "id": "advance-accreditation",
   "metadata": {},
   "outputs": [
    {
     "name": "stdout",
     "output_type": "stream",
     "text": [
      "using cached model\n",
      "using cached model\n"
     ]
    }
   ],
   "source": [
    "summ = get_summarized_text(text)"
   ]
  },
  {
   "cell_type": "code",
   "execution_count": 10,
   "id": "liked-anatomy",
   "metadata": {},
   "outputs": [
    {
     "data": {
      "text/plain": [
       "\"19일 Mnet '너의 목소리가 보여8'에 출연한 이특은 현 시간부로 음치와 실력자를 가려내는 '가수의 비주얼'이 시작됐는데  '너의 목소리가 보여8' 그룹 슈퍼주니어가 음치 찾기에 실패해 체면을 구겼다.\""
      ]
     },
     "execution_count": 10,
     "metadata": {},
     "output_type": "execute_result"
    }
   ],
   "source": [
    "summ"
   ]
  },
  {
   "cell_type": "markdown",
   "id": "creative-slide",
   "metadata": {},
   "source": [
    "## Example 4: 청와대 국민청원\n",
    "- 원문: https://www1.president.go.kr/petitions/597080"
   ]
  },
  {
   "cell_type": "code",
   "execution_count": 11,
   "id": "atmospheric-equity",
   "metadata": {},
   "outputs": [],
   "source": [
    "text = \"\"\"\n",
    "2021년 3월18일 오후 1시 51분쯤 인천 중구 **초등학교 앞에서 11살 여아가 횡단보도를 건너다 트럭에 치여 숨졌습니다 그 친구는 제 동생에 친구고요\n",
    "스쿨존에 화물차 다니게 하지말아주세요 제 동생이 다치거나 제 친구 1,2,3,4,5학년 친구들이 부상을입거나 사망을 입을까봐 무섭습니다.. 애초에 학교앞에 트럭이 왜 다녀요..\n",
    "제 동생 친구가 죽은거라 제 동생은 진짜 엄청많이 울고있어요 피해자 부모님은 마음이 찢어질정도로 슬플거구요\n",
    "트럭을 운전하다 사고를 낸 60대 남성분은 현재 경찰에서 검거돼 조사를받고 있으시고\n",
    "경찰은 남성이 당시 음주운전을 안하신거로 보고있으십니다\n",
    "해당 사고가 초등학교 인근 스쿨존에서 발생한만큼, 경찰은 일명 '민식이법'(특정범죄가중처벌법) 위반 혐의로 B씨를 입건할 것으로 알려졌습니다\n",
    "제발 동의한번씩만 해주세요\n",
    "\"\"\""
   ]
  },
  {
   "cell_type": "code",
   "execution_count": 12,
   "id": "automated-blank",
   "metadata": {},
   "outputs": [
    {
     "name": "stdout",
     "output_type": "stream",
     "text": [
      "using cached model\n",
      "using cached model\n"
     ]
    }
   ],
   "source": [
    "summ = get_summarized_text(text)"
   ]
  },
  {
   "cell_type": "code",
   "execution_count": 13,
   "id": "phantom-package",
   "metadata": {},
   "outputs": [
    {
     "data": {
      "text/plain": [
       "\"2021년 3월18일 인천 중구 **초등학교 앞에서 11살 여아가 횡단보도를 건너다 트럭에 치여 숨지는 사고가 초등학교 인근 스쿨존에서 발생한만큼, 경찰은 일명 '민식이법'(특정범죄가중처벌법) 위반 혐의로 B씨를 입건할 것으로 알려졌다.\""
      ]
     },
     "execution_count": 13,
     "metadata": {},
     "output_type": "execute_result"
    }
   ],
   "source": [
    "summ"
   ]
  },
  {
   "cell_type": "markdown",
   "id": "opened-oxygen",
   "metadata": {},
   "source": [
    "> 뉴스 데이터로 학습된 만큼 기사 문체를 유지하려는 모습입니다."
   ]
  },
  {
   "cell_type": "code",
   "execution_count": null,
   "id": "greek-spring",
   "metadata": {},
   "outputs": [],
   "source": []
  }
 ],
 "metadata": {
  "kernelspec": {
   "display_name": "Python 3",
   "language": "python",
   "name": "python3"
  },
  "language_info": {
   "codemirror_mode": {
    "name": "ipython",
    "version": 3
   },
   "file_extension": ".py",
   "mimetype": "text/x-python",
   "name": "python",
   "nbconvert_exporter": "python",
   "pygments_lexer": "ipython3",
   "version": "3.6.9"
  }
 },
 "nbformat": 4,
 "nbformat_minor": 5
}
