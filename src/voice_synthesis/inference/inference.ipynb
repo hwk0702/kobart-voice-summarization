{
 "cells": [
  {
   "cell_type": "markdown",
   "id": "extensive-america",
   "metadata": {},
   "source": [
    "# Kobart with Voice Synthesis"
   ]
  },
  {
   "cell_type": "markdown",
   "id": "favorite-argentina",
   "metadata": {},
   "source": [
    "<img src='../../../assets/thumbnail.png'>"
   ]
  },
  {
   "cell_type": "code",
   "execution_count": 1,
   "id": "residential-korean",
   "metadata": {
    "ExecuteTime": {
     "end_time": "2021-06-08T22:06:52.082948Z",
     "start_time": "2021-06-08T22:06:51.933081Z"
    }
   },
   "outputs": [],
   "source": [
    "from news_crawling import create_news_txt, get_news_content"
   ]
  },
  {
   "cell_type": "code",
   "execution_count": 2,
   "id": "naked-atlas",
   "metadata": {
    "ExecuteTime": {
     "end_time": "2021-06-08T22:06:58.763776Z",
     "start_time": "2021-06-08T22:06:53.852560Z"
    }
   },
   "outputs": [
    {
     "data": {
      "text/plain": [
       "'[아시아경제 김소영 기자] 한강에서 숨진 채 발견된 대학생 고(故) 손정민(22)씨 친구 A씨 측으로부터 고소당한 한 유튜버가 자신에 대한 허위사실을 유포하고 모욕한 혐의로 네티즌들을 대거 고소했다고 밝혔다.8일 유튜브 채널 \\'종이의 TV\\' 운영자는 유튜브 채널 커뮤니티를 통해 \\'종이의 TV 등에 대한 사이버 모욕 및 정통망법 위반 네티즌 대거 고소\\'라는 제목의 글을 올렸다.그는 \"저도 본격적으로 시작 한다\"며 \"악의적인 허위사실 유포 및 모욕에 대해서 각종 인터넷 커뮤니티 이용자들 대거 고소했다\"고 적었다.이어 \"저의 메시지에 대해 악의적으로 음해하는 것들에 대해 계속 내버려 둔다면 진실 찾기에 어려움을 겪을 수 있다\"며 고소 배경을 설명했다.그러면서 \"밤새서 작성한 고소장들을 보던 수사관님께서 보시더니 혐의 사실이 너무 명확하고 고소장 내용이 매우 충실하다고 한다. 바로 입건까지 되어서 일부 조사까지 마쳤다\"고 덧붙였다.이와 함께 서울 강남경찰서 앞에서 고소장 등 여러 서류를 든 사진을 함께 공개했다.7일 이 채널 운영자는 A씨 측이 자신을 고소하겠다고 밝힌 것과 관련해 \"종이만 콕 집어 고소한다고 하더라. 확실히 제가 하는 진실 찾기가 가장 뼈아팠나 보다\"라고 말하기도 했다.이어 \"오늘 서초경찰서에 오신다고 했는데 제가 오전 내내 그 앞에 있을 때는 안 보이시더니 오후 늦게까지 기사로만?\"이라며 \"언플(언론 플레이) 그만하시고 고소할 거면 어서 하시길\"이라고 했다.그러면서 \"저는 이미 당신네들에 대한 조사 똑바로 하라고 진정서와 7000명의 서명이 들어간 탄원서까지 제출했다\"며 \"모욕이랑 정보통신망법 위반만 적시돼 있는데 그럼 혹 제가 했던 말이 다 합리적 의혹이라 판단해주시는 거냐\"고 덧붙였다.\\'종이의 TV\\'는 약 18만명의 구독자를 보유한 유튜브 채널로, 친구 A씨와 관련된 의혹을 다룬 영상을 올리며 주목받았다. 채널의 운영자 \\'종이\\'는 네이버 카페 \\'반포 한강 사건 진실을 찾는 사람들(반진사)\\'의 대표이기도 하다.앞서 이날 A씨의 법률 대리를 맡은 법무법인 원앤파트너스는 종이의 TV 관리자인 \\'종이\\'를 정보통신망법위반·전기통신사업법위반·모욕 등 혐의로 서울 서초경찰서에 고소했다고 밝혔다.김소영 기자 sozero815@asiae.co.kr<ⓒ경제를 보는 눈, 세계를 보는 창 아시아경제 무단전재 배포금지>'"
      ]
     },
     "execution_count": 2,
     "metadata": {},
     "output_type": "execute_result"
    }
   ],
   "source": [
    "get_news_content('https://news.v.daum.net/v/20210608204145950')"
   ]
  },
  {
   "cell_type": "code",
   "execution_count": 4,
   "id": "processed-hygiene",
   "metadata": {
    "ExecuteTime": {
     "end_time": "2021-06-08T22:07:11.261556Z",
     "start_time": "2021-06-08T22:07:11.259271Z"
    }
   },
   "outputs": [],
   "source": [
    "url = 'https://www.yna.co.kr/view/AKR20210608157052004?section=industry/all&site=topnews01'"
   ]
  },
  {
   "cell_type": "code",
   "execution_count": 5,
   "id": "formal-uniform",
   "metadata": {
    "ExecuteTime": {
     "end_time": "2021-06-08T22:07:12.258564Z",
     "start_time": "2021-06-08T22:07:12.118653Z"
    }
   },
   "outputs": [
    {
     "data": {
      "text/plain": [
       "'[촬영 김치연] (서울=연합뉴스) 김치연 기자 = 전국택배노조는 8일 진행된 2차 사회적 합의가 결렬됨에 따라 9일부터 쟁의권 있는 조합원들이 무기한 전면파업에 돌입한다고 밝혔다. 택배노조는 이날 서울 영등포구 국회 앞에서 기자회견을 열고 \"마지막 협상이라는 자세로 임했던 사회적 합의 기구가 합의안 도출에 실패하면서 내일부터 쟁의권 있는 전국 모든 조합원이 무기한 전면 파업에 돌입한다\"고 밝혔다. 진경호 택배노조 위원장은 \"형식적으로는 대리점 연합회가 오늘 불참해 사회적 합의안을 도출할 수 없다는 상황에 직면했다는 게 결렬의 표면적 이유지만 실질적으로는 택배사들이 사회적 합의안 타결을 미루고 적용 시점을 1년 유예해달라는 것이 가장 핵심적인 결렬 원인\"이라고 주장했다. 그러면서 \"쟁의권 없는 조합원들은 현재처럼 오전 9시 출근·11시 배송출발 투쟁을 전개한다\"고 했다. 택배노조에 따르면 내일부터 총파업에 돌입하는 쟁의권 있는 조합원은 2천100여 명에 해당한다. 개별 분류 작업이 이뤄지지 않는 우체국 택배는 사실상 파업 상태나 다름없고, 일시적으로 분류작업이 투입되는 택배사들도 철저하게 개별 분류된 물건만 싣고 나가도록 하겠다는 것이 택배노조의 설명이다. 진 위원장은 \"분류작업 문제는 이제 끝장내자는 결심으로, 국민께 불편을 끼치더라도 더는 미룰 수 없다는 절박함으로 총파업 투쟁에 돌입하게 된다는 점을 밝힌다\"며 \"언제든 그 누구라도 대화를 요청하면 피하지 않고 타결을 위해 적극적으로 협상에 임하겠다\"고 했다. 특히 택배노조는 우정사업본부가 사회적 합의의 공식 주체인데도 사유를 밝히지 않고 회의에 불참함에 따라 우정사업본부에 대해서 향후 집중 타격 투쟁을 전개하겠다고 밝혔다. 진 위원장은 \"이날 4시간가량 진행된 사회적 합의에서 국토교통부가 합의안 초안을 제시했다\"며 \"다만 1차 합의문과 달리 2차 합의문에는 택배 물량 감축에 따른 임금 감소에 대한 대책이 빠져있다\"고 했다.  이어 \"노동시간 감축이 현격한 임금감소로 이어질 수밖에 없어 합의문 초안을 받아들일 수 없었다\"고 설명했다. 택배노조는 9일 오전 조합원들을 상대로 총파업 투쟁 찬반투표를 진행한 뒤 결과를 발표할 예정이다. 다음 사회적 합의 기구 회의는 이달 15∼16일로 예정됐다. chic@yna.co.kr\\n<저작권자(c) 연합뉴스,\\n무단 전재-재배포 금지>\\n2021/06/08 19:06 송고\\n'"
      ]
     },
     "execution_count": 5,
     "metadata": {},
     "output_type": "execute_result"
    }
   ],
   "source": [
    "get_news_content(url)"
   ]
  },
  {
   "cell_type": "code",
   "execution_count": null,
   "id": "ready-dressing",
   "metadata": {
    "ExecuteTime": {
     "end_time": "2021-06-08T21:16:26.152373Z",
     "start_time": "2021-06-08T21:16:26.149845Z"
    }
   },
   "outputs": [],
   "source": [
    "url = 'https://news.joins.com/article/24077408?cloc=joongang-home-newslistleft'"
   ]
  },
  {
   "cell_type": "code",
   "execution_count": null,
   "id": "smooth-liberia",
   "metadata": {
    "ExecuteTime": {
     "end_time": "2021-06-08T21:16:29.904093Z",
     "start_time": "2021-06-08T21:16:29.273921Z"
    }
   },
   "outputs": [],
   "source": [
    "get_news_content(url)"
   ]
  },
  {
   "cell_type": "code",
   "execution_count": null,
   "id": "german-postage",
   "metadata": {
    "ExecuteTime": {
     "end_time": "2021-06-08T21:19:29.173879Z",
     "start_time": "2021-06-08T21:19:29.171619Z"
    }
   },
   "outputs": [],
   "source": [
    "url = 'https://www.chosun.com/economy/stock-finance/2021/06/09/RZUMSWV6YRFABJQRAQPJLCTLH4/'"
   ]
  },
  {
   "cell_type": "code",
   "execution_count": null,
   "id": "armed-tulsa",
   "metadata": {
    "ExecuteTime": {
     "end_time": "2021-06-08T21:22:55.163763Z",
     "start_time": "2021-06-08T21:22:53.390871Z"
    }
   },
   "outputs": [],
   "source": [
    "get_news_content(url)"
   ]
  },
  {
   "cell_type": "code",
   "execution_count": 6,
   "id": "bound-africa",
   "metadata": {
    "ExecuteTime": {
     "end_time": "2021-06-08T22:07:15.309048Z",
     "start_time": "2021-06-08T22:07:15.141035Z"
    }
   },
   "outputs": [],
   "source": [
    "create_news_txt(url)"
   ]
  },
  {
   "cell_type": "code",
   "execution_count": null,
   "id": "accepting-coral",
   "metadata": {},
   "outputs": [],
   "source": [
    "!docker-compose up -d"
   ]
  },
  {
   "cell_type": "code",
   "execution_count": null,
   "id": "classified-archives",
   "metadata": {},
   "outputs": [],
   "source": [
    "import IPython.display as ipd\n",
    "ipd.Audio('result.wav') # load a local WAV file"
   ]
  }
 ],
 "metadata": {
  "hide_input": false,
  "kernelspec": {
   "display_name": "Python 3",
   "language": "python",
   "name": "python3"
  },
  "language_info": {
   "codemirror_mode": {
    "name": "ipython",
    "version": 3
   },
   "file_extension": ".py",
   "mimetype": "text/x-python",
   "name": "python",
   "nbconvert_exporter": "python",
   "pygments_lexer": "ipython3",
   "version": "3.6.9"
  },
  "toc": {
   "base_numbering": 1,
   "nav_menu": {},
   "number_sections": true,
   "sideBar": true,
   "skip_h1_title": false,
   "title_cell": "Table of Contents",
   "title_sidebar": "Contents",
   "toc_cell": false,
   "toc_position": {},
   "toc_section_display": true,
   "toc_window_display": false
  },
  "varInspector": {
   "cols": {
    "lenName": 16,
    "lenType": 16,
    "lenVar": 40
   },
   "kernels_config": {
    "python": {
     "delete_cmd_postfix": "",
     "delete_cmd_prefix": "del ",
     "library": "var_list.py",
     "varRefreshCmd": "print(var_dic_list())"
    },
    "r": {
     "delete_cmd_postfix": ") ",
     "delete_cmd_prefix": "rm(",
     "library": "var_list.r",
     "varRefreshCmd": "cat(var_dic_list()) "
    }
   },
   "types_to_exclude": [
    "module",
    "function",
    "builtin_function_or_method",
    "instance",
    "_Feature"
   ],
   "window_display": false
  }
 },
 "nbformat": 4,
 "nbformat_minor": 5
}
