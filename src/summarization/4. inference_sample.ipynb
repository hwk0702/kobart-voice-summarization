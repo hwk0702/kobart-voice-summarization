{
 "cells": [
  {
   "cell_type": "markdown",
   "id": "complete-dance",
   "metadata": {},
   "source": [
    "# Inference sample\n"
   ]
  },
  {
   "cell_type": "code",
   "execution_count": 1,
   "id": "retired-framing",
   "metadata": {},
   "outputs": [
    {
     "name": "stdout",
     "output_type": "stream",
     "text": [
      "using cached model\n",
      "using cached model\n"
     ]
    }
   ],
   "source": [
    "from inference import get_summarized_text"
   ]
  },
  {
   "cell_type": "code",
   "execution_count": 2,
   "id": "scenic-citizen",
   "metadata": {},
   "outputs": [],
   "source": [
    "kobart_ckpt = \"./checkpoints/version-16/best_model_step_40730_loss_1.8838.pt\"\n",
    "distilkobart_ckpt = \"./checkpoints/version-22/best_model_step_65168_loss_2.2167.pt\""
   ]
  },
  {
   "cell_type": "markdown",
   "id": "owned-summer",
   "metadata": {},
   "source": [
    "## Example 1: 일반 뉴스\n",
    "- 원문: https://news.naver.com/main/read.nhn?mode=LSD&mid=shm&sid1=105&oid=025&aid=0003086392"
   ]
  },
  {
   "cell_type": "code",
   "execution_count": 3,
   "id": "technical-aberdeen",
   "metadata": {},
   "outputs": [],
   "source": [
    "text = \"\"\"\n",
    "5월 서비스 재개를 추진하는 '추억의 SNS' 싸이월드가 회원들이 저장했던 사진데이터가 무사하며, 약 35억원어치 '도토리'(사이버머니)도 이용자들에게 환불해줄 계획이라고 19일 밝혔다.\n",
    "싸이월드 운영권을 넘겨받은 싸이월드제트는 이날 보도자료를 통해 전날 SK커뮤니케이션즈와 서비스 데이터 이관 등에 관한 합의서를 체결했다고 알렸다.\n",
    "싸이월드는 과거 SK컴즈에 사보사용료 등을 체납해 1년 5개월째 SKT의 인터넷데이터센터(IDC)에 있는 서버에 접근하지 못하고 있었다. 하지만 양측이 데이터 이관에 합의하면서 싸이월드 복구 작업도 탄력을 받게 됐다.\n",
    "이들은 \"회원 3200만명이 저장했던 사진 170억장, 동영상 1억5000만개, 음원 5억여개 등 180억개에 달하는 데이터베이스(DB)가 그대로 보존돼있는 것을 확인했다\"고 했다.\n",
    "또 오는 5월 싸이월드 서비스가 재개되면 이용자들이 구매했던 도토리도 환불해주기로 했다. 싸이월드제트 측은 SK컴즈가 보관하던 도토리를 넘겨받아 환불해주기로 합의했다고 밝혔다. 도토리는 미니홈피의 바탕화면이나 음악 등을 구매할 때 쓰던 사이버머니다.\n",
    "싸이월드제트 관계자는 \"SK텔레콤·SK컴즈가 싸이월드 부활을 위해 큰 결단을 해주셨다\"며 \"조만간 싸이월드를 통해 복구 진척 상황과 '아이디 찾기' 기능 등을 확인할 수 있을 것\"이라고 밝혔다.\n",
    "\"\"\""
   ]
  },
  {
   "cell_type": "code",
   "execution_count": 4,
   "id": "architectural-portland",
   "metadata": {},
   "outputs": [
    {
     "name": "stdout",
     "output_type": "stream",
     "text": [
      "5월 서비스 재개를 추진하는 '추억의 SNS' 싸이월드가 회원들이 저장했던 사진데이터가 무사하며, 약 35억원어치 '도토리'도 이용자들에게 환불해줄 계획이라고 19일 밝혔으며,싸이월드 운영권을 넘겨받은 싸이월드제트는 이날 보도자료를 통해 전날 SK커뮤니케이션즈와 서비스 데이터 이관 등에 관한 합의서를 체결했다고 알렸고,싸이월드는 과거 SK컴즈에 사보사용료 등을 체납해 1년 5개월째 SKT의 인터넷데이터센터(IDC)에 있는 서버에 접근하지 못하고 있었다.\n"
     ]
    }
   ],
   "source": [
    "summ_kobart = get_summarized_text(kobart_ckpt, text, n_enc=6, n_dec=6)\n",
    "print(summ_kobart)"
   ]
  },
  {
   "cell_type": "code",
   "execution_count": 15,
   "id": "satisfied-athletics",
   "metadata": {},
   "outputs": [
    {
     "name": "stdout",
     "output_type": "stream",
     "text": [
      "19일 싸이월드제트는 전날 SK커뮤니케이션즈와 서비스 데이터 이관 등에 관한 합의서를 체결했다고 알리며 5월 서비스 재개를 추진하는 '추억의 SNS' 싸이월드가 회원들이 저장했던 사진데이터가 무사하며 약 35억원어치 '도토리'(사이버머니)도 이용자들에게 환불해줄 계획이라고 밝혔다.\n"
     ]
    }
   ],
   "source": [
    "summ_distilkobart = get_summarized_text(distilkobart_ckpt, text, n_enc=6, n_dec=3)\n",
    "print(summ_distilkobart)"
   ]
  },
  {
   "cell_type": "markdown",
   "id": "driven-damages",
   "metadata": {},
   "source": [
    "> 현재는 하나의 checkpoint에서 다른 checkpoint로 바로 교체할 수 없는 상태입니다. 따라서 kobart와 distilkobart 코드는 따로 실행해주세요."
   ]
  },
  {
   "cell_type": "markdown",
   "id": "adopted-tactics",
   "metadata": {},
   "source": [
    "## Example 2: 스포츠 뉴스\n",
    "\n",
    "- 원문: https://sports.news.naver.com/news.nhn?oid=139&aid=0002148267"
   ]
  },
  {
   "cell_type": "code",
   "execution_count": 4,
   "id": "welsh-costume",
   "metadata": {},
   "outputs": [],
   "source": [
    "text = \"\"\"\n",
    "UEFA는 19일 오후 8시(한국시간) 스위스 니옹에 위치한 UEFA 본부에서 2020/21시즌 UCL 8강-4강 대진 추첨식을 진행했다.\n",
    "지난 시즌 압도적인 경기력으로 우승컵을 들어올렸던 바이에른 뮌헨은 파리 생제르맹(PSG)과 만나게 됐다. PSG 입장에선 지난 시즌 결승전에서의 패배 복수를 할 수 있는 기회가 온 것이다.\n",
    "토마스 투헬 감독 체제에서 180도 달라진 첼시는 FC포르투와 격돌하게 됐다. 첼시는 지난 16강전에서 아틀레티코 마드리드를 상대로 1, 2차전 무실점 완승을 거뒀다. 포르투는 크리스티아누 호날두가 버틴 유벤투스를 격파하며 이변을 보여줬다.\n",
    "가장 주목해야 할 팀은 맨체스터 시티다. 맨시티는 올 시즌 잉글리시 프리미어리그(EPL)에서 단독 1위를 질주하고 있다. 다만 챔피언스리그와는 인연이 없었다. 올 시즌은 다르다는 것을 보여주고 있는 펩 과르디올라 감독과 맨시티는 보루시아 도르트문트와 외나무다리에서 만난다.\n",
    "마지막 한 자리는 레알 마드리드와 리버풀이 만나게 됐다. 두 팀도 과거 대회에서 여러 차례 만난 바 있다.\n",
    "한편, 8강 1차전은 4월 7일, 8일에 열리고 2차전은 4월 14일, 15일에 펼쳐진다. 준결승 1차전은 4월 28일, 29일에 2차전은 5월 5일, 6일에 예정되어 있다.\n",
    "\"\"\""
   ]
  },
  {
   "cell_type": "code",
   "execution_count": 6,
   "id": "julian-limit",
   "metadata": {},
   "outputs": [
    {
     "name": "stdout",
     "output_type": "stream",
     "text": [
      "UEFA는 19일 오후 8시 스위스 니옹에 위치한 UEFA 본부에서 2020/21시즌 UCL 8강-4강 대진 추첨식을 진행했는데, 지난 시즌 압도적인 경기력으로 우승컵을 들어올렸던 바이에른 뮌헨은 파리 생제르맹(PSG)과, 토마스 투헬 감독 체제에서 180도 달라진 첼시는 FC포르투와, 맨시티는 보루시아 도르트문트와 외나무다리에서 만나게 됐다.\n"
     ]
    }
   ],
   "source": [
    "summ_kobart = get_summarized_text(kobart_ckpt, text, n_enc=6, n_dec=6)\n",
    "print(summ_kobart)"
   ]
  },
  {
   "cell_type": "code",
   "execution_count": 8,
   "id": "spectacular-mississippi",
   "metadata": {},
   "outputs": [
    {
     "name": "stdout",
     "output_type": "stream",
     "text": [
      "UEFA는 19일 오후 8시(한국시간) 스위스 니옹에 위치한 UEFA 본부에서 2020/21시즌 UCL 8강-4강 대진 추첨식을 진행했는데, 지난 시즌 압도적인 경기력으로 우승컵을 들어올렸던 바이에른 뮌헨은 파리 생제르맹(PSG)과, 토마스 투헬 감독 체제에서 180도 달라진 첼시는 FC포르투와 격돌하게 됐다.\n"
     ]
    }
   ],
   "source": [
    "summ_distilkobart = get_summarized_text(distilkobart_ckpt, text, n_enc=6, n_dec=3)\n",
    "print(summ_distilkobart)"
   ]
  },
  {
   "cell_type": "markdown",
   "id": "activated-stand",
   "metadata": {},
   "source": [
    "## Example 3: 연예 뉴스\n",
    "- 원문: https://entertain.naver.com/read?oid=438&aid=0000035325 "
   ]
  },
  {
   "cell_type": "code",
   "execution_count": 5,
   "id": "contained-bathroom",
   "metadata": {},
   "outputs": [],
   "source": [
    "text = \"\"\"\n",
    "이상우 이도훈 부자가 ‘불후의 명곡-어버이날 특집’에서 최종우승했다.\n",
    "8일 방송된 KBS2TV <불후의 명곡-전설을 노래하다>는 어버이날을 맞이해 연예계 대표 효자&효녀 스타 가족들이 총출동했다.\n",
    "꼭 닮은 붕어빵 부자 백일섭과 그의 아들은 평소 백일섭의 애창곡인 나훈아의 ‘고장난 벽시계’를, 음악인 가족 이상우와 아들은 한동준의 ‘사랑의 서약’으로 아름다운 무대를 선보였다. 트로트 모자 임주리와 재하는 김진호의 ‘가족사진’ 무대로 서로를 향한 진심을 전했다.\n",
    "<불후의 명곡> 우승자 출신 모자 남상일과 어머니가 출연해 태진아의 ‘사모곡’을, 배기성 부부와 양가 어머니는 박상철의 ‘무조건’을 선보였다. 다재다능 삼부자 상호-상민과 아버지가 남인수의 ‘이별의 부산 정거장’으로 웃음과 감동이 함께하는 무대를 펼쳐보였다.\n",
    "이날 첫 무대를 꾸민 백일섭은 “아들과 노래방도 안 가는 사이”라며 “출연 고민을 많이 했다. 가사를 잊어버릴까봐 자다가도 다시 보고 그랬다”고 말했다. 백일섭 아들 백승우는 “저도 아버지가 안 하실 줄 알았는데 하신다고 해서 깜짝 놀랐다”라고 말했다.\n",
    "백일섭은 ‘불후의 명곡’ 출연을 결정한 이유에 대해 “아들과 추억을 만들고 싶어 도전했다”라고 밝혔다. 두 사람은 손을 꼭 붙잡고 나훈아의 '고장 난 벽시계' 무대를 선보여 아름다운 추억의 무대를 선보였다.\n",
    "두번째 무대엔 이상호&이상민 형제와 아버지 이운우가 섰다. 이운우는 2012년과 2013년 KBS 개그맨 공채에 응시한 적이 있다고 한다. 만일 붙었더라면 쌍둥이 아들의 후배가 되는 것인데 아쉽게도 떨어졌다면서 “KBS가 인재를 못 알아본다”고 말해 웃음을 안겼다.\n",
    "세 사람은 개그 DNA를 과시하는 무대를 꾸몄다. ‘이별의 부산 정거장’을 선곡해 재치 있는 퍼포먼스로 박수 갈채를 받았다. 재하는 “대기실에서는 웃기시려고만 했는데, 노래를 너무 잘해서 깜짝 놀랐다”고 극찬했다. 이상호&이상민과 이운우 부자가 1승을 가져갔다.\n",
    "이어 배기성 가족, 남상일 가족들이 차례로 무대를 꾸몄다. 다섯 번재 무대로는 임주리&재하가 뽑혔다. 재하를 혼자 키웠던 임주리는 “어릴 때 너무 못해줬다”고 미안해했다.\n",
    "재하는 “엄마가 엄마, 아빠 역할을 다했다. 그땐 원망스럽기도 했는데 그동안 고생을 많이 하셨다는 걸 느끼고 노래를 연습하면서 더 감사함을 느끼고 있다”고 말했다. 두 사람은 ‘가족사진’을 선곡해 애틋한 무대를 만들었다.\n",
    "마지막 무대는 이상우와 아들 한동준이 꾸몄다. 두 사람은 ‘사랑의 서약’을 선곡했다. 이상우는 아들에대해 “43세 때 가진 늦둥이 아들”이라며 “아들과 한 무대에 서는 날이 올까 생각했는데 오늘이 왔다”고 말했다.\n",
    "아들은 현재 17세로, 예술중학교 실용음악과를 졸업하고 재즈 피아노를 치고 있었다. 이상우는 “홈스쿨링 하면서 작곡 공부하고 있고 대학을 작곡과로 가려고 한다”고 말했다.\n",
    "또 “저는 음악과 사는 삶이 인생이 괜찮아서 아들도 그랬으면 하는 마음에 장난감을 악기만 갖다 놨는데 세 살 정도에 드럼 세트에 딱 올라타더니 연주를 하더라”고 자랑했다. 두 사람은 아름다운 무대를 선사했고, ‘어버이날 특집’ 최종우승을 차지했다.\n",
    "한편 ‘불후의 명곡’은 불후의 명곡으로 남아있는 레전드 노래를 대한민국 실력파 보컬리스트들이 자신만의 느낌으로 새롭게 재해석해서 무대 위에서 경합을 펼치는 프로그램이다. 전설을 노래하는 후배 가수들은 전설의 노래를 각자 자신에게 맞는 곡으로 재탄생시켜 전설과 명곡 판정단 앞에서 노래 대결을 펼쳐 우승자를 뽑는다.\n",
    "‘불후의 명곡’은 2011년 6월 첫 방송을 시작으로 현재까지, 대한민국 대표이자 최장수 음악 예능 프로그램으로서 굳건히 자리를 지키고 있다. 지금까지 ‘불후의 명곡'에서 재해석된 곡은 2000곡이고, 관객 수는 28만명에 달한다. ‘불후의 명곡’은 매주 토요일 오후 6시 KBS2TV에서 방송된다.\n",
    "\"\"\""
   ]
  },
  {
   "cell_type": "code",
   "execution_count": 6,
   "id": "continental-spirit",
   "metadata": {},
   "outputs": [
    {
     "name": "stdout",
     "output_type": "stream",
     "text": [
      "8일 방송된 KBS2TV <불후의 명곡-전설을 노래하다에서 백일섭과 그의 아들은 평소 백일섭의 애창곡인 나훈아의 ‘고장난 벽시계’를, 음악인 가족 이상우와 아들은 한동준의 ‘사랑의 서약’으로 아름다운 무대를 선보여 최종우승했다.\n"
     ]
    }
   ],
   "source": [
    "summ_kobart = get_summarized_text(kobart_ckpt, text, n_enc=6, n_dec=6)\n",
    "print(summ_kobart)"
   ]
  },
  {
   "cell_type": "code",
   "execution_count": 10,
   "id": "leading-minority",
   "metadata": {},
   "outputs": [
    {
     "name": "stdout",
     "output_type": "stream",
     "text": [
      "8일 방송된 KBS2TV <불후의 명곡-전설을 노래하다>는 어버이날을 맞이해 연예계 대표 효자&효녀 스타 가족들이 총출동해 ‘불후의 명곡-어버이날 특집’에서 최종우승한 백일섭과 그의 아들은 평소 백일섭의 애창곡인 나훈아의 ‘고장난 벽시계’를, 음악인 가족 이상우와 아들은 한동준의 ‘사랑의 서약’으로 아름다운 무대를 선보였다.\n"
     ]
    }
   ],
   "source": [
    "summ_distilkobart = get_summarized_text(distilkobart_ckpt, text, n_enc=6, n_dec=3)\n",
    "print(summ_distilkobart)"
   ]
  },
  {
   "cell_type": "markdown",
   "id": "hybrid-latin",
   "metadata": {},
   "source": [
    "## Example 4: 청와대 국민청원\n",
    "- 원문: https://www1.president.go.kr/petitions/597080"
   ]
  },
  {
   "cell_type": "code",
   "execution_count": 11,
   "id": "running-shipping",
   "metadata": {},
   "outputs": [],
   "source": [
    "text = \"\"\"\n",
    "2021년 3월18일 오후 1시 51분쯤 인천 중구 **초등학교 앞에서 11살 여아가 횡단보도를 건너다 트럭에 치여 숨졌습니다 그 친구는 제 동생에 친구고요\n",
    "스쿨존에 화물차 다니게 하지말아주세요 제 동생이 다치거나 제 친구 1,2,3,4,5학년 친구들이 부상을입거나 사망을 입을까봐 무섭습니다.. 애초에 학교앞에 트럭이 왜 다녀요..\n",
    "제 동생 친구가 죽은거라 제 동생은 진짜 엄청많이 울고있어요 피해자 부모님은 마음이 찢어질정도로 슬플거구요\n",
    "트럭을 운전하다 사고를 낸 60대 남성분은 현재 경찰에서 검거돼 조사를받고 있으시고\n",
    "경찰은 남성이 당시 음주운전을 안하신거로 보고있으십니다\n",
    "해당 사고가 초등학교 인근 스쿨존에서 발생한만큼, 경찰은 일명 '민식이법'(특정범죄가중처벌법) 위반 혐의로 B씨를 입건할 것으로 알려졌습니다\n",
    "제발 동의한번씩만 해주세요\n",
    "\"\"\""
   ]
  },
  {
   "cell_type": "code",
   "execution_count": 10,
   "id": "polar-advertising",
   "metadata": {},
   "outputs": [
    {
     "name": "stdout",
     "output_type": "stream",
     "text": [
      "2021년 3월18일 오후 1시 51분쯤 인천 중구 **초등학교 앞에서 11살 여아가 횡단보도를 건너다 트럭에 치여 숨졌는데 그 친구는 제 동생에 친구고요스쿨존에 화물차 다니게 하지말아주세요 제 동생이 다치거나 제 친구 1,2,3,4,5학년 친구들이 부상을입거나 사망을 입을까봐 무섭습니다.\n"
     ]
    }
   ],
   "source": [
    "summ_kobart = get_summarized_text(kobart_ckpt, text, n_enc=6, n_dec=6)\n",
    "print(summ_kobart)"
   ]
  },
  {
   "cell_type": "code",
   "execution_count": 12,
   "id": "decent-situation",
   "metadata": {},
   "outputs": [
    {
     "name": "stdout",
     "output_type": "stream",
     "text": [
      "2021년 3월18일 오후 1시 51분쯤 인천 중구 초등학교 앞에서 11살 여아가 횡단보도를 건너다 트럭에 치여 숨졌는데 그 친구는 제 동생에 친구고요스쿨존에 화물차 다니게 하지말아주세요 제 동생이 다치거나 제 친구 1,2,3,4,5학년 친구들이 부상을 입거나 사망을 입을까봐 무섭습니다.\n"
     ]
    }
   ],
   "source": [
    "summ_distilkobart = get_summarized_text(distilkobart_ckpt, text, n_enc=6, n_dec=3)\n",
    "print(summ_distilkobart)"
   ]
  },
  {
   "cell_type": "code",
   "execution_count": null,
   "id": "marked-weekend",
   "metadata": {},
   "outputs": [],
   "source": []
  }
 ],
 "metadata": {
  "kernelspec": {
   "display_name": "Python 3",
   "language": "python",
   "name": "python3"
  },
  "language_info": {
   "codemirror_mode": {
    "name": "ipython",
    "version": 3
   },
   "file_extension": ".py",
   "mimetype": "text/x-python",
   "name": "python",
   "nbconvert_exporter": "python",
   "pygments_lexer": "ipython3",
   "version": "3.6.9"
  }
 },
 "nbformat": 4,
 "nbformat_minor": 5
}
