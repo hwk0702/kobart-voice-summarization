{
 "cells": [
  {
   "cell_type": "markdown",
   "id": "completed-greene",
   "metadata": {},
   "source": [
    "# Overall Pipeline\n",
    "\n",
    "간단한 파이프라인은 아래와 같이 구성됩니다."
   ]
  },
  {
   "cell_type": "code",
   "execution_count": 1,
   "id": "pleased-donna",
   "metadata": {},
   "outputs": [],
   "source": [
    "%load_ext lab_black\n",
    "# !pip install lxml\n",
    "# !pip install beautifulsoup4\n",
    "# !pip install hgtk\n",
    "# !pip install jamo\n",
    "# !pip install Unidecode\n",
    "# !pip install inflect\n",
    "# !pip install librosa\n",
    "# !pip install matplotlib\n",
    "# !sudo apt-get install libsndfile1"
   ]
  },
  {
   "cell_type": "code",
   "execution_count": 2,
   "id": "hairy-student",
   "metadata": {},
   "outputs": [
    {
     "name": "stdout",
     "output_type": "stream",
     "text": [
      "using cached model\n",
      "using cached model\n"
     ]
    }
   ],
   "source": [
    "import os\n",
    "import sys\n",
    "import json\n",
    "import requests\n",
    "import re\n",
    "import urllib.request\n",
    "import soundfile as sf\n",
    "\n",
    "import sys\n",
    "\n",
    "sys.path.insert(0, \"./voice_synthesis/tacotron2\")\n",
    "sys.path.insert(0, \"./voice_synthesis/waveglow\")\n",
    "from summarization.inference import get_summarized_text\n",
    "from voice.preprocessing.kor_transliterator import Transliterator\n",
    "from voice_synthesis.inference import Synthesizer\n",
    "\n",
    "from bs4 import BeautifulSoup"
   ]
  },
  {
   "cell_type": "code",
   "execution_count": 10,
   "id": "above-landing",
   "metadata": {},
   "outputs": [],
   "source": [
    "class VoiceSummarizer:\n",
    "    \"\"\" Simple Voice Summarizer Demo \"\"\"\n",
    "\n",
    "    def __init__(self, checkpoint_path):\n",
    "        self.ckpt_kobart = checkpoint_path[\"kobart\"]\n",
    "        self.ckpt_tacotron = checkpoint_path[\"tacotron\"]\n",
    "        self.ckpt_waveglow = checkpoint_path[\"waveglow\"]\n",
    "\n",
    "        assert self.ckpt_kobart, \"You should enter KoBART checkpoint path.\"\n",
    "        assert self.ckpt_tacotron, \"You should enter Tacotron checkpoint path.\"\n",
    "        assert self.ckpt_waveglow, \"You should enter Waveglow checkpoint path.\"\n",
    "\n",
    "    def get_news_content(self, url):\n",
    "        resp = requests.get(url)\n",
    "        soup = BeautifulSoup(resp.text, \"lxml\")\n",
    "        content = \"\"\n",
    "\n",
    "        if re.search(r\"daum\", url) != None:\n",
    "            tag = \"div#harmonyContainer p\"\n",
    "        elif re.search(r\"yna\", url) != None:\n",
    "            tag = \"div[class=scroller01] p\"\n",
    "        elif re.search(r\"joins\", url) != None:\n",
    "            tag = \"div#article_body\"\n",
    "\n",
    "        for p in soup.select(tag):\n",
    "            content += p.get_text()\n",
    "        return content\n",
    "\n",
    "    def summarize(self, text: str) -> str:\n",
    "        return get_summarized_text(self.ckpt_kobart, text)\n",
    "\n",
    "    def transliterate(self, text: str) -> str:\n",
    "        text = re.sub(\"[-=+,#/\\?:^$.@*\\\"※~&%ㆍ·!』\\\\‘|\\(\\)\\[\\]\\<\\>`'…》]\", \" \", text)\n",
    "        text = text.replace(\"  \", \" \")\n",
    "        return Transliterator(text).transliterate()\n",
    "\n",
    "    def synthesize(self, text: str) -> None:\n",
    "        synthesizer = Synthesizer(self.ckpt_tacotron, self.ckpt_waveglow)\n",
    "        audio, sampling_rate = synthesizer.inference(text)\n",
    "        sf.write(\"./summary.wav\", audio, sampling_rate)\n",
    "\n",
    "    def run(self, url):\n",
    "        news = self.get_news_content(url)\n",
    "        summarized = self.summarize(news)\n",
    "        transliterated = self.transliterate(summarized)\n",
    "        self.synthesize(transliterated)\n",
    "\n",
    "        return news, summarized, transliterated"
   ]
  },
  {
   "cell_type": "code",
   "execution_count": 4,
   "id": "superior-westminster",
   "metadata": {},
   "outputs": [],
   "source": [
    "search_url = \"https://www.yna.co.kr/view/AKR20210610125900057?section=industry/all\"\n",
    "checkpoint_path = {\n",
    "    \"kobart\": \"./summarization/checkpoints/version-16/best_model_step_40730_loss_1.8838.pt\",\n",
    "    \"tacotron\": \"./voice_synthesis/tacotron2/output/checkpoint_680000\",\n",
    "    \"waveglow\": \"./voice_synthesis/waveglow/checkpoints/waveglow_1514000\",\n",
    "}"
   ]
  },
  {
   "cell_type": "code",
   "execution_count": 5,
   "id": "crude-patrol",
   "metadata": {},
   "outputs": [],
   "source": [
    "summarizer = VoiceSummarizer(checkpoint_path)"
   ]
  },
  {
   "cell_type": "code",
   "execution_count": 6,
   "id": "assigned-attraction",
   "metadata": {},
   "outputs": [
    {
     "name": "stdout",
     "output_type": "stream",
     "text": [
      "Warning! Reached max decoder steps\n"
     ]
    }
   ],
   "source": [
    "original, summary, transliterated = summarizer.run(search_url)"
   ]
  },
  {
   "cell_type": "code",
   "execution_count": 7,
   "id": "introductory-direction",
   "metadata": {},
   "outputs": [
    {
     "data": {
      "text/plain": [
       "\"[울산대 제공. 재판매 및 DB 금지] (울산=연합뉴스) 김용태 기자 = 울산대학교는 10일 교육부의 '대학 중점 연구소 지원 사업'에 2개 연구소가 선정됐다고 밝혔다. 울산대에 따르면 선정 연구소는 화학산업종합연구소(연구책임 화학과 이영일 교수)와 소화기병연구소(연구책임 의학과 명승재 교수)다. 이들 연구소는 올해부터 2030년 5월까지 9년 동안 해마다 사업비 7억7천만원을 교육부로부터 각각 지원받아 연구를 진행한다. 화학산업종합연구소는 '산학 융합 기반 신산업 창출형 나노 화학 소재 연구개발'을 목표로 하고 있다. 세부 연구 주제는 신규 촉매 소재 개발, 정밀 화학 소재 개발, 스마트 에너지 소재 개발 등이다. 지역 화학업체와 유기적으로 교류해 산학 융합형 사업을 운영하고, 화학산업 연구개발 분야 전문 인력을 양성한다. 소화기병연구소는 소화기 질환 신약과 진단법을 개발하는 '다중오믹스 기반 소화기 질환 진단 및 치료 기술' 개발을 목표로 한다. 세부 과제는 임상 기반 신약 개발 연구, 다중오믹스 기반 연구, 동물 모델 기반 기전 연구 등이다. 소화기 질환 연구 인프라를 구축해 국내외 경쟁력을 확보하고, 해당 질환의 중개 연구와 신약 개발에 특화된 인력을 양성한다. yongtae@yna.co.kr\\n<저작권자(c) 연합뉴스,\\n무단 전재-재배포 금지>\\n2021/06/10 15:35 송고\\n\""
      ]
     },
     "execution_count": 7,
     "metadata": {},
     "output_type": "execute_result"
    }
   ],
   "source": [
    "original"
   ]
  },
  {
   "cell_type": "code",
   "execution_count": 8,
   "id": "clinical-champagne",
   "metadata": {},
   "outputs": [
    {
     "data": {
      "text/plain": [
       "\"울산대학교는 10일 교육부의 '대학 중점 연구소 지원 사업'에 화학산업종합연구소와 소화기병연구소가 선정되어 올해부터 2030년 5월까지 9년 동안 해마다 사업비 7억7천만원을 교육부로부터 각각 지원받아 연구를 진행한다.\""
      ]
     },
     "execution_count": 8,
     "metadata": {},
     "output_type": "execute_result"
    }
   ],
   "source": [
    "summary"
   ]
  },
  {
   "cell_type": "code",
   "execution_count": 9,
   "id": "noted-marina",
   "metadata": {},
   "outputs": [
    {
     "data": {
      "text/plain": [
       "'울산대학교는 십일 교육부의 대학 중점 연구소 지원 사업 에 화학산업종합연구소와 소화기병연구소가 선정되어 올해부터 이천삼십년 오월까지 구년 동안 해마다 사업비 칠억칠천만원을 교육부로부터 각각 지원받아 연구를 진행한다 '"
      ]
     },
     "execution_count": 9,
     "metadata": {},
     "output_type": "execute_result"
    }
   ],
   "source": [
    "transliterated"
   ]
  },
  {
   "cell_type": "code",
   "execution_count": null,
   "id": "according-panel",
   "metadata": {},
   "outputs": [],
   "source": []
  }
 ],
 "metadata": {
  "kernelspec": {
   "display_name": "Python 3",
   "language": "python",
   "name": "python3"
  },
  "language_info": {
   "codemirror_mode": {
    "name": "ipython",
    "version": 3
   },
   "file_extension": ".py",
   "mimetype": "text/x-python",
   "name": "python",
   "nbconvert_exporter": "python",
   "pygments_lexer": "ipython3",
   "version": "3.6.9"
  }
 },
 "nbformat": 4,
 "nbformat_minor": 5
}
